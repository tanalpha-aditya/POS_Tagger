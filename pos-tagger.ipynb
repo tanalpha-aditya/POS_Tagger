{
 "cells": [
  {
   "cell_type": "code",
   "execution_count": null,
   "id": "afbc6f6c",
   "metadata": {
    "papermill": {
     "duration": 0.003471,
     "end_time": "2023-03-06T18:32:12.857352",
     "exception": false,
     "start_time": "2023-03-06T18:32:12.853881",
     "status": "completed"
    },
    "tags": []
   },
   "outputs": [],
   "source": []
  },
  {
   "cell_type": "markdown",
   "id": "5d049ced",
   "metadata": {
    "papermill": {
     "duration": 0.001952,
     "end_time": "2023-03-06T18:32:12.861830",
     "exception": false,
     "start_time": "2023-03-06T18:32:12.859878",
     "status": "completed"
    },
    "tags": []
   },
   "source": [
    "# **Converting from .conllu to lists**"
   ]
  },
  
  {
   "cell_type": "code",
   "execution_count": 1,
   "id": "03af48df",
   "metadata": {
    "execution": {
     "iopub.execute_input": "2023-03-06T18:32:12.867713Z",
     "iopub.status.busy": "2023-03-06T18:32:12.867388Z",
     "iopub.status.idle": "2023-03-06T18:32:12.879467Z",
     "shell.execute_reply": "2023-03-06T18:32:12.878601Z"
    },
    "papermill": {
     "duration": 0.017478,
     "end_time": "2023-03-06T18:32:12.881425",
     "exception": false,
     "start_time": "2023-03-06T18:32:12.863947",
     "status": "completed"
    },
    "tags": []
   },
   "outputs": [],
   "source": [
    "def read_conllu_file(filename):\n",
    "    index = []\n",
    "    words = []\n",
    "    pos_tags = []\n",
    "    word_sentence = []\n",
    "    pos_tags_sentences = []\n",
    "    index_sentence = []\n",
    "    words_total = []\n",
    "    pos_tags_total = []\n",
    "\n",
    "    count = 0\n",
    "    with open(filename, \"r\") as f:\n",
    "        lines = f.readlines()\n",
    "        for line in lines:\n",
    "            if line.strip():\n",
    "                if line.startswith(\"#\"):\n",
    "                    continue\n",
    "                fields = line.strip().split(\"\\t\")\n",
    "                if \".\" in fields[0]:\n",
    "                    continue\n",
    "                index_sentence.append(fields[0])\n",
    "                word_sentence.append(fields[1])\n",
    "                pos_tags_sentences.append(fields[3])\n",
    "                words_total.append(fields[1])\n",
    "                pos_tags_total.append(fields[3])\n",
    "            else:\n",
    "                index.append(index_sentence)\n",
    "                print\n",
    "                pos_tags.append(pos_tags_sentences)\n",
    "                word_sentence.append(word_sentence)\n",
    "                word_sentence = []\n",
    "                pos_tags_sentences = []\n",
    "                index_sentence = []\n",
    "#             print ( fields[0])\n",
    "    return index, words, pos_tags, words_total, pos_tags_total"
   ]
  },
  {
   "cell_type": "code",
   "execution_count": 2,
   "id": "0e6b4739",
   "metadata": {
    "execution": {
     "iopub.execute_input": "2023-03-06T18:32:12.887089Z",
     "iopub.status.busy": "2023-03-06T18:32:12.886822Z",
     "iopub.status.idle": "2023-03-06T18:32:12.993178Z",
     "shell.execute_reply": "2023-03-06T18:32:12.992221Z"
    },
    "papermill": {
     "duration": 0.111615,
     "end_time": "2023-03-06T18:32:12.995415",
     "exception": false,
     "start_time": "2023-03-06T18:32:12.883800",
     "status": "completed"
    },
    "tags": []
   },
   "outputs": [],
   "source": [
    "index, words, pos_tags, words_total, pos_tags_total= read_conllu_file(\"/kaggle/input/datasent-for-pos-tagging-iiith/en_atis-ud-train.conllu\")\n"
   ]
  },
  {
   "cell_type": "code",
   "execution_count": 3,
   "id": "ceac9f72",
   "metadata": {
    "execution": {
     "iopub.execute_input": "2023-03-06T18:32:13.001512Z",
     "iopub.status.busy": "2023-03-06T18:32:13.001196Z",
     "iopub.status.idle": "2023-03-06T18:32:13.007015Z",
     "shell.execute_reply": "2023-03-06T18:32:13.005783Z"
    },
    "papermill": {
     "duration": 0.011911,
     "end_time": "2023-03-06T18:32:13.009753",
     "exception": false,
     "start_time": "2023-03-06T18:32:12.997842",
     "status": "completed"
    },
    "tags": []
   },
   "outputs": [
    {
     "name": "stdout",
     "output_type": "stream",
     "text": [
      "['ADV', 'PRON', 'VERB', 'DET', 'NOUN', 'VERB', 'PROPN', 'PROPN', 'CCONJ', 'VERB', 'ADP', 'PROPN', 'DET', 'ADJ', 'ADP', 'NUM', 'NOUN', 'ADJ', 'NOUN']\n"
     ]
    }
   ],
   "source": [
    "print(pos_tags[1])"
   ]
  },
  {
   "cell_type": "code",
   "execution_count": 4,
   "id": "0174e72e",
   "metadata": {
    "execution": {
     "iopub.execute_input": "2023-03-06T18:32:13.016573Z",
     "iopub.status.busy": "2023-03-06T18:32:13.015792Z",
     "iopub.status.idle": "2023-03-06T18:32:13.027716Z",
     "shell.execute_reply": "2023-03-06T18:32:13.026394Z"
    },
    "papermill": {
     "duration": 0.017816,
     "end_time": "2023-03-06T18:32:13.030224",
     "exception": false,
     "start_time": "2023-03-06T18:32:13.012408",
     "status": "completed"
    },
    "tags": []
   },
   "outputs": [
    {
     "name": "stdout",
     "output_type": "stream",
     "text": [
      " Total number of sentences  4274\n",
      " Total number of unique words  863\n",
      " Total number of tags  13\n"
     ]
    }
   ],
   "source": [
    "num_sentences = len(index)\n",
    "num_words = len(set(words_total))\n",
    "num_tags = len(set(pos_tags_total))\n",
    "print( \" Total number of sentences \", num_sentences)\n",
    "print( \" Total number of unique words \", num_words)\n",
    "print( \" Total number of tags \", num_tags)\n",
    "# print( set ( pos_tags))"
   ]
  },
  {
   "cell_type": "markdown",
   "id": "b31ed8a5",
   "metadata": {
    "papermill": {
     "duration": 0.002154,
     "end_time": "2023-03-06T18:32:13.034992",
     "exception": false,
     "start_time": "2023-03-06T18:32:13.032838",
     "status": "completed"
    },
    "tags": []
   },
   "source": [
    "# Encoding and Embedding"
   ]
  },
  {
   "cell_type": "code",
   "execution_count": null,
   "id": "c3614e40",
   "metadata": {
    "papermill": {
     "duration": 0.002367,
     "end_time": "2023-03-06T18:32:13.040138",
     "exception": false,
     "start_time": "2023-03-06T18:32:13.037771",
     "status": "completed"
    },
    "tags": []
   },
   "outputs": [],
   "source": []
  }
 ],
 "metadata": {
  "kernelspec": {
   "display_name": "Python 3",
   "language": "python",
   "name": "python3"
  },
  "language_info": {
   "codemirror_mode": {
    "name": "ipython",
    "version": 3
   },
   "file_extension": ".py",
   "mimetype": "text/x-python",
   "name": "python",
   "nbconvert_exporter": "python",
   "pygments_lexer": "ipython3",
   "version": "3.7.12"
  },
  "papermill": {
   "default_parameters": {},
   "duration": 9.059739,
   "end_time": "2023-03-06T18:32:13.562241",
   "environment_variables": {},
   "exception": null,
   "input_path": "__notebook__.ipynb",
   "output_path": "__notebook__.ipynb",
   "parameters": {},
   "start_time": "2023-03-06T18:32:04.502502",
   "version": "2.4.0"
  }
 },
 "nbformat": 4,
 "nbformat_minor": 5
}
